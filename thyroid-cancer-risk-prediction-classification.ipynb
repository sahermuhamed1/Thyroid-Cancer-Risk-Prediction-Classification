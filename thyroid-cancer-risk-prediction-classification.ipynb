{
 "cells": [
  {
   "cell_type": "code",
   "execution_count": 1,
   "id": "6668295b",
   "metadata": {
    "_cell_guid": "b1076dfc-b9ad-4769-8c92-a6c4dae69d19",
    "_uuid": "8f2839f25d086af736a60e9eeb907d3b93b6e0e5",
    "execution": {
     "iopub.execute_input": "2024-02-18T16:14:00.971815Z",
     "iopub.status.busy": "2024-02-18T16:14:00.970900Z",
     "iopub.status.idle": "2024-02-18T16:14:03.890718Z",
     "shell.execute_reply": "2024-02-18T16:14:03.889332Z"
    },
    "papermill": {
     "duration": 2.927345,
     "end_time": "2024-02-18T16:14:03.893555",
     "exception": false,
     "start_time": "2024-02-18T16:14:00.966210",
     "status": "completed"
    },
    "tags": []
   },
   "outputs": [],
   "source": [
    "import numpy as np \n",
    "import pandas as pd\n",
    "import matplotlib.pyplot as plt\n",
    "import seaborn as sns\n",
    "from sklearn.impute import KNNImputer, SimpleImputer\n",
    "from sklearn.model_selection import train_test_split\n",
    "from sklearn.linear_model import LogisticRegression\n",
    "from sklearn.metrics import accuracy_score, classification_report, confusion_matrix"
   ]
  },
  {
   "cell_type": "code",
   "execution_count": 2,
   "id": "a5224071",
   "metadata": {
    "execution": {
     "iopub.execute_input": "2024-02-18T16:14:03.901087Z",
     "iopub.status.busy": "2024-02-18T16:14:03.900518Z",
     "iopub.status.idle": "2024-02-18T16:14:03.945997Z",
     "shell.execute_reply": "2024-02-18T16:14:03.944477Z"
    },
    "papermill": {
     "duration": 0.05209,
     "end_time": "2024-02-18T16:14:03.948554",
     "exception": false,
     "start_time": "2024-02-18T16:14:03.896464",
     "status": "completed"
    },
    "tags": []
   },
   "outputs": [
    {
     "data": {
      "text/html": [
       "<div>\n",
       "<style scoped>\n",
       "    .dataframe tbody tr th:only-of-type {\n",
       "        vertical-align: middle;\n",
       "    }\n",
       "\n",
       "    .dataframe tbody tr th {\n",
       "        vertical-align: top;\n",
       "    }\n",
       "\n",
       "    .dataframe thead th {\n",
       "        text-align: right;\n",
       "    }\n",
       "</style>\n",
       "<table border=\"1\" class=\"dataframe\">\n",
       "  <thead>\n",
       "    <tr style=\"text-align: right;\">\n",
       "      <th></th>\n",
       "      <th>Age</th>\n",
       "      <th>Gender</th>\n",
       "      <th>Smoking</th>\n",
       "      <th>Hx Smoking</th>\n",
       "      <th>Hx Radiothreapy</th>\n",
       "      <th>Thyroid Function</th>\n",
       "      <th>Physical Examination</th>\n",
       "      <th>Adenopathy</th>\n",
       "      <th>Pathology</th>\n",
       "      <th>Focality</th>\n",
       "      <th>Risk</th>\n",
       "      <th>T</th>\n",
       "      <th>N</th>\n",
       "      <th>M</th>\n",
       "      <th>Stage</th>\n",
       "      <th>Response</th>\n",
       "      <th>Recurred</th>\n",
       "    </tr>\n",
       "  </thead>\n",
       "  <tbody>\n",
       "    <tr>\n",
       "      <th>0</th>\n",
       "      <td>27</td>\n",
       "      <td>F</td>\n",
       "      <td>No</td>\n",
       "      <td>No</td>\n",
       "      <td>No</td>\n",
       "      <td>Euthyroid</td>\n",
       "      <td>Single nodular goiter-left</td>\n",
       "      <td>No</td>\n",
       "      <td>Micropapillary</td>\n",
       "      <td>Uni-Focal</td>\n",
       "      <td>Low</td>\n",
       "      <td>T1a</td>\n",
       "      <td>N0</td>\n",
       "      <td>M0</td>\n",
       "      <td>I</td>\n",
       "      <td>Indeterminate</td>\n",
       "      <td>No</td>\n",
       "    </tr>\n",
       "    <tr>\n",
       "      <th>1</th>\n",
       "      <td>34</td>\n",
       "      <td>F</td>\n",
       "      <td>No</td>\n",
       "      <td>Yes</td>\n",
       "      <td>No</td>\n",
       "      <td>Euthyroid</td>\n",
       "      <td>Multinodular goiter</td>\n",
       "      <td>No</td>\n",
       "      <td>Micropapillary</td>\n",
       "      <td>Uni-Focal</td>\n",
       "      <td>Low</td>\n",
       "      <td>T1a</td>\n",
       "      <td>N0</td>\n",
       "      <td>M0</td>\n",
       "      <td>I</td>\n",
       "      <td>Excellent</td>\n",
       "      <td>No</td>\n",
       "    </tr>\n",
       "    <tr>\n",
       "      <th>2</th>\n",
       "      <td>30</td>\n",
       "      <td>F</td>\n",
       "      <td>No</td>\n",
       "      <td>No</td>\n",
       "      <td>No</td>\n",
       "      <td>Euthyroid</td>\n",
       "      <td>Single nodular goiter-right</td>\n",
       "      <td>No</td>\n",
       "      <td>Micropapillary</td>\n",
       "      <td>Uni-Focal</td>\n",
       "      <td>Low</td>\n",
       "      <td>T1a</td>\n",
       "      <td>N0</td>\n",
       "      <td>M0</td>\n",
       "      <td>I</td>\n",
       "      <td>Excellent</td>\n",
       "      <td>No</td>\n",
       "    </tr>\n",
       "    <tr>\n",
       "      <th>3</th>\n",
       "      <td>62</td>\n",
       "      <td>F</td>\n",
       "      <td>No</td>\n",
       "      <td>No</td>\n",
       "      <td>No</td>\n",
       "      <td>Euthyroid</td>\n",
       "      <td>Single nodular goiter-right</td>\n",
       "      <td>No</td>\n",
       "      <td>Micropapillary</td>\n",
       "      <td>Uni-Focal</td>\n",
       "      <td>Low</td>\n",
       "      <td>T1a</td>\n",
       "      <td>N0</td>\n",
       "      <td>M0</td>\n",
       "      <td>I</td>\n",
       "      <td>Excellent</td>\n",
       "      <td>No</td>\n",
       "    </tr>\n",
       "    <tr>\n",
       "      <th>4</th>\n",
       "      <td>62</td>\n",
       "      <td>F</td>\n",
       "      <td>No</td>\n",
       "      <td>No</td>\n",
       "      <td>No</td>\n",
       "      <td>Euthyroid</td>\n",
       "      <td>Multinodular goiter</td>\n",
       "      <td>No</td>\n",
       "      <td>Micropapillary</td>\n",
       "      <td>Multi-Focal</td>\n",
       "      <td>Low</td>\n",
       "      <td>T1a</td>\n",
       "      <td>N0</td>\n",
       "      <td>M0</td>\n",
       "      <td>I</td>\n",
       "      <td>Excellent</td>\n",
       "      <td>No</td>\n",
       "    </tr>\n",
       "  </tbody>\n",
       "</table>\n",
       "</div>"
      ],
      "text/plain": [
       "   Age Gender Smoking Hx Smoking Hx Radiothreapy Thyroid Function  \\\n",
       "0   27      F      No         No              No        Euthyroid   \n",
       "1   34      F      No        Yes              No        Euthyroid   \n",
       "2   30      F      No         No              No        Euthyroid   \n",
       "3   62      F      No         No              No        Euthyroid   \n",
       "4   62      F      No         No              No        Euthyroid   \n",
       "\n",
       "          Physical Examination Adenopathy       Pathology     Focality Risk  \\\n",
       "0   Single nodular goiter-left         No  Micropapillary    Uni-Focal  Low   \n",
       "1          Multinodular goiter         No  Micropapillary    Uni-Focal  Low   \n",
       "2  Single nodular goiter-right         No  Micropapillary    Uni-Focal  Low   \n",
       "3  Single nodular goiter-right         No  Micropapillary    Uni-Focal  Low   \n",
       "4          Multinodular goiter         No  Micropapillary  Multi-Focal  Low   \n",
       "\n",
       "     T   N   M Stage       Response Recurred  \n",
       "0  T1a  N0  M0     I  Indeterminate       No  \n",
       "1  T1a  N0  M0     I      Excellent       No  \n",
       "2  T1a  N0  M0     I      Excellent       No  \n",
       "3  T1a  N0  M0     I      Excellent       No  \n",
       "4  T1a  N0  M0     I      Excellent       No  "
      ]
     },
     "execution_count": 2,
     "metadata": {},
     "output_type": "execute_result"
    }
   ],
   "source": [
    "df = pd.read_csv('/kaggle/input/differentiated-thyroid-cancer-recurrence/Thyroid_Diff.csv')\n",
    "df.head(5)"
   ]
  },
  {
   "cell_type": "code",
   "execution_count": 3,
   "id": "8ccc8564",
   "metadata": {
    "execution": {
     "iopub.execute_input": "2024-02-18T16:14:03.956618Z",
     "iopub.status.busy": "2024-02-18T16:14:03.956189Z",
     "iopub.status.idle": "2024-02-18T16:14:03.976335Z",
     "shell.execute_reply": "2024-02-18T16:14:03.975055Z"
    },
    "papermill": {
     "duration": 0.026886,
     "end_time": "2024-02-18T16:14:03.978629",
     "exception": false,
     "start_time": "2024-02-18T16:14:03.951743",
     "status": "completed"
    },
    "tags": []
   },
   "outputs": [],
   "source": [
    "df['Dangerous?'] = 'No'  \n",
    "df.loc[df['Risk'] == 'High', 'Dangerous?'] = 'Yes'\n",
    "\n",
    "columns_to_keep = ['Age', 'Gender', 'Smoking', 'Hx Smoking', 'Hx Radiothreapy', 'Dangerous?']\n",
    "df.drop(df.columns.difference(columns_to_keep), axis=1, inplace=True)"
   ]
  },
  {
   "cell_type": "code",
   "execution_count": 4,
   "id": "02731118",
   "metadata": {
    "execution": {
     "iopub.execute_input": "2024-02-18T16:14:03.986978Z",
     "iopub.status.busy": "2024-02-18T16:14:03.986332Z",
     "iopub.status.idle": "2024-02-18T16:14:04.007292Z",
     "shell.execute_reply": "2024-02-18T16:14:04.005908Z"
    },
    "papermill": {
     "duration": 0.028454,
     "end_time": "2024-02-18T16:14:04.010213",
     "exception": false,
     "start_time": "2024-02-18T16:14:03.981759",
     "status": "completed"
    },
    "tags": []
   },
   "outputs": [],
   "source": [
    "df['Dangerous?'] = df['Dangerous?'].map({'No': 0, 'Yes': 1})\n",
    "\n",
    "# Select features (X) and target variable (y)\n",
    "X = df[['Age', 'Gender', 'Smoking', 'Hx Smoking', 'Hx Radiothreapy']]\n",
    "y = df['Dangerous?']\n",
    "\n",
    "# One-hot encode categorical variables\n",
    "X = pd.get_dummies(X, columns=['Age' , 'Gender', 'Smoking', 'Hx Smoking', 'Hx Radiothreapy'], drop_first=True)\n",
    "\n",
    "# Split the data into training and testing sets\n",
    "X_train, X_test, y_train, y_test = train_test_split(X, y, test_size=0.2, random_state=42)"
   ]
  },
  {
   "cell_type": "code",
   "execution_count": 5,
   "id": "a6357cb1",
   "metadata": {
    "execution": {
     "iopub.execute_input": "2024-02-18T16:14:04.018637Z",
     "iopub.status.busy": "2024-02-18T16:14:04.017897Z",
     "iopub.status.idle": "2024-02-18T16:14:04.046387Z",
     "shell.execute_reply": "2024-02-18T16:14:04.045041Z"
    },
    "papermill": {
     "duration": 0.036743,
     "end_time": "2024-02-18T16:14:04.050205",
     "exception": false,
     "start_time": "2024-02-18T16:14:04.013462",
     "status": "completed"
    },
    "tags": []
   },
   "outputs": [],
   "source": [
    "logreg_model = LogisticRegression()\n",
    "logreg_model.fit(X_train, y_train)\n",
    "y_pred = logreg_model.predict(X_test)"
   ]
  },
  {
   "cell_type": "code",
   "execution_count": 6,
   "id": "f4988050",
   "metadata": {
    "execution": {
     "iopub.execute_input": "2024-02-18T16:14:04.064187Z",
     "iopub.status.busy": "2024-02-18T16:14:04.062672Z",
     "iopub.status.idle": "2024-02-18T16:14:04.084683Z",
     "shell.execute_reply": "2024-02-18T16:14:04.083275Z"
    },
    "papermill": {
     "duration": 0.032908,
     "end_time": "2024-02-18T16:14:04.088369",
     "exception": false,
     "start_time": "2024-02-18T16:14:04.055461",
     "status": "completed"
    },
    "tags": []
   },
   "outputs": [
    {
     "name": "stdout",
     "output_type": "stream",
     "text": [
      "The Classification Model Score = 93.5064935064935%\n"
     ]
    }
   ],
   "source": [
    "accuracy = accuracy_score(y_test, y_pred)\n",
    "classification_rep = classification_report(y_test, y_pred)\n",
    "print('The Classification Model Score = ' + str(accuracy * 100) + '%')"
   ]
  }
 ],
 "metadata": {
  "kaggle": {
   "accelerator": "none",
   "dataSources": [
    {
     "datasetId": 4324904,
     "sourceId": 7431940,
     "sourceType": "datasetVersion"
    }
   ],
   "dockerImageVersionId": 30646,
   "isGpuEnabled": false,
   "isInternetEnabled": true,
   "language": "python",
   "sourceType": "notebook"
  },
  "kernelspec": {
   "display_name": "Python 3",
   "language": "python",
   "name": "python3"
  },
  "language_info": {
   "codemirror_mode": {
    "name": "ipython",
    "version": 3
   },
   "file_extension": ".py",
   "mimetype": "text/x-python",
   "name": "python",
   "nbconvert_exporter": "python",
   "pygments_lexer": "ipython3",
   "version": "3.10.13"
  },
  "papermill": {
   "default_parameters": {},
   "duration": 6.684694,
   "end_time": "2024-02-18T16:14:04.724506",
   "environment_variables": {},
   "exception": null,
   "input_path": "__notebook__.ipynb",
   "output_path": "__notebook__.ipynb",
   "parameters": {},
   "start_time": "2024-02-18T16:13:58.039812",
   "version": "2.5.0"
  }
 },
 "nbformat": 4,
 "nbformat_minor": 5
}
